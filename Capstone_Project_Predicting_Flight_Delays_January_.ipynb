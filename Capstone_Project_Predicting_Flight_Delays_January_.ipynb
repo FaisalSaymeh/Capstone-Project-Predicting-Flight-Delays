{
  "nbformat": 4,
  "nbformat_minor": 0,
  "metadata": {
    "colab": {
      "name": " Capstone Project-Predicting Flight Delays -January .ipynb",
      "provenance": [],
      "collapsed_sections": [
        "RHW26-fBgN-g",
        "8T6vV5_crTlu",
        "JmPTLL6zg4eT",
        "Xy7sqKm2ldKz"
      ]
    },
    "kernelspec": {
      "display_name": "Python 3",
      "name": "python3"
    },
    "language_info": {
      "name": "python"
    }
  },
  "cells": [
    {
      "cell_type": "markdown",
      "metadata": {
        "id": "6gzOFl17Kryf"
      },
      "source": [
        "#  1. Loading the libraries"
      ]
    },
    {
      "cell_type": "code",
      "metadata": {
        "id": "AtLt4mYPK24m"
      },
      "source": [
        "import numpy as np\n",
        "import pandas as pd\n",
        "import datetime, warnings\n",
        "import matplotlib.pyplot as plt\n",
        "warnings.filterwarnings(\"ignore\")\n",
        "from sklearn.preprocessing import OneHotEncoder\n",
        "from sklearn.model_selection import train_test_split, cross_val_score, cross_val_predict\n",
        "from sklearn.preprocessing import PolynomialFeatures, StandardScaler\n",
        "from sklearn import metrics, linear_model\n",
        "from sklearn.metrics import r2_score\n",
        "import seaborn as sns\n",
        "from sklearn.linear_model import Ridge\n",
        "from sklearn.neighbors import KNeighborsRegressor\n",
        "from sklearn.compose import ColumnTransformer"
      ],
      "execution_count": null,
      "outputs": []
    },
    {
      "cell_type": "markdown",
      "metadata": {
        "id": "esl8qkGzKxRe"
      },
      "source": [
        "# 2. Overview of the dataset"
      ]
    },
    {
      "cell_type": "code",
      "metadata": {
        "colab": {
          "base_uri": "https://localhost:8080/",
          "height": 439
        },
        "id": "CXxdZhOHLKFg",
        "outputId": "36bc56f9-d81e-4cf6-bc7f-f8b3ef1935c9"
      },
      "source": [
        "df = pd.read_csv('https://raw.githubusercontent.com/FaisalSaymeh/Predicting-Flight-Delays/master/flights%20jan.csv')\n",
        "df"
      ],
      "execution_count": null,
      "outputs": [
        {
          "output_type": "execute_result",
          "data": {
            "text/html": [
              "<div>\n",
              "<style scoped>\n",
              "    .dataframe tbody tr th:only-of-type {\n",
              "        vertical-align: middle;\n",
              "    }\n",
              "\n",
              "    .dataframe tbody tr th {\n",
              "        vertical-align: top;\n",
              "    }\n",
              "\n",
              "    .dataframe thead th {\n",
              "        text-align: right;\n",
              "    }\n",
              "</style>\n",
              "<table border=\"1\" class=\"dataframe\">\n",
              "  <thead>\n",
              "    <tr style=\"text-align: right;\">\n",
              "      <th></th>\n",
              "      <th>YEAR</th>\n",
              "      <th>MONTH</th>\n",
              "      <th>DAY</th>\n",
              "      <th>DAY_OF_WEEK</th>\n",
              "      <th>AIRLINE</th>\n",
              "      <th>FLIGHT_NUMBER</th>\n",
              "      <th>TAIL_NUMBER</th>\n",
              "      <th>ORIGIN_AIRPORT</th>\n",
              "      <th>DESTINATION_AIRPORT</th>\n",
              "      <th>SCHEDULED_DEPARTURE</th>\n",
              "      <th>DEPARTURE_TIME</th>\n",
              "      <th>DEPARTURE_DELAY</th>\n",
              "      <th>TAXI_OUT</th>\n",
              "      <th>WHEELS_OFF</th>\n",
              "      <th>SCHEDULED_TIME</th>\n",
              "      <th>ELAPSED_TIME</th>\n",
              "      <th>AIR_TIME</th>\n",
              "      <th>DISTANCE</th>\n",
              "      <th>WHEELS_ON</th>\n",
              "      <th>TAXI_IN</th>\n",
              "      <th>SCHEDULED_ARRIVAL</th>\n",
              "      <th>ARRIVAL_TIME</th>\n",
              "      <th>ARRIVAL_DELAY</th>\n",
              "      <th>DIVERTED</th>\n",
              "      <th>CANCELLED</th>\n",
              "      <th>CANCELLATION_REASON</th>\n",
              "      <th>AIR_SYSTEM_DELAY</th>\n",
              "      <th>SECURITY_DELAY</th>\n",
              "      <th>AIRLINE_DELAY</th>\n",
              "      <th>LATE_AIRCRAFT_DELAY</th>\n",
              "      <th>WEATHER_DELAY</th>\n",
              "    </tr>\n",
              "  </thead>\n",
              "  <tbody>\n",
              "    <tr>\n",
              "      <th>0</th>\n",
              "      <td>2015</td>\n",
              "      <td>1</td>\n",
              "      <td>1</td>\n",
              "      <td>4</td>\n",
              "      <td>AS</td>\n",
              "      <td>98</td>\n",
              "      <td>N407AS</td>\n",
              "      <td>ANC</td>\n",
              "      <td>SEA</td>\n",
              "      <td>5</td>\n",
              "      <td>2354.0</td>\n",
              "      <td>-11.0</td>\n",
              "      <td>21.0</td>\n",
              "      <td>15.0</td>\n",
              "      <td>205</td>\n",
              "      <td>194.0</td>\n",
              "      <td>169.0</td>\n",
              "      <td>1448</td>\n",
              "      <td>404.0</td>\n",
              "      <td>4.0</td>\n",
              "      <td>430</td>\n",
              "      <td>408.0</td>\n",
              "      <td>-22.0</td>\n",
              "      <td>0</td>\n",
              "      <td>0</td>\n",
              "      <td>NaN</td>\n",
              "      <td>NaN</td>\n",
              "      <td>NaN</td>\n",
              "      <td>NaN</td>\n",
              "      <td>NaN</td>\n",
              "      <td>NaN</td>\n",
              "    </tr>\n",
              "    <tr>\n",
              "      <th>1</th>\n",
              "      <td>2015</td>\n",
              "      <td>1</td>\n",
              "      <td>1</td>\n",
              "      <td>4</td>\n",
              "      <td>AA</td>\n",
              "      <td>2336</td>\n",
              "      <td>N3KUAA</td>\n",
              "      <td>LAX</td>\n",
              "      <td>PBI</td>\n",
              "      <td>10</td>\n",
              "      <td>2.0</td>\n",
              "      <td>-8.0</td>\n",
              "      <td>12.0</td>\n",
              "      <td>14.0</td>\n",
              "      <td>280</td>\n",
              "      <td>279.0</td>\n",
              "      <td>263.0</td>\n",
              "      <td>2330</td>\n",
              "      <td>737.0</td>\n",
              "      <td>4.0</td>\n",
              "      <td>750</td>\n",
              "      <td>741.0</td>\n",
              "      <td>-9.0</td>\n",
              "      <td>0</td>\n",
              "      <td>0</td>\n",
              "      <td>NaN</td>\n",
              "      <td>NaN</td>\n",
              "      <td>NaN</td>\n",
              "      <td>NaN</td>\n",
              "      <td>NaN</td>\n",
              "      <td>NaN</td>\n",
              "    </tr>\n",
              "    <tr>\n",
              "      <th>2</th>\n",
              "      <td>2015</td>\n",
              "      <td>1</td>\n",
              "      <td>1</td>\n",
              "      <td>4</td>\n",
              "      <td>US</td>\n",
              "      <td>840</td>\n",
              "      <td>N171US</td>\n",
              "      <td>SFO</td>\n",
              "      <td>CLT</td>\n",
              "      <td>20</td>\n",
              "      <td>18.0</td>\n",
              "      <td>-2.0</td>\n",
              "      <td>16.0</td>\n",
              "      <td>34.0</td>\n",
              "      <td>286</td>\n",
              "      <td>293.0</td>\n",
              "      <td>266.0</td>\n",
              "      <td>2296</td>\n",
              "      <td>800.0</td>\n",
              "      <td>11.0</td>\n",
              "      <td>806</td>\n",
              "      <td>811.0</td>\n",
              "      <td>5.0</td>\n",
              "      <td>0</td>\n",
              "      <td>0</td>\n",
              "      <td>NaN</td>\n",
              "      <td>NaN</td>\n",
              "      <td>NaN</td>\n",
              "      <td>NaN</td>\n",
              "      <td>NaN</td>\n",
              "      <td>NaN</td>\n",
              "    </tr>\n",
              "    <tr>\n",
              "      <th>3</th>\n",
              "      <td>2015</td>\n",
              "      <td>1</td>\n",
              "      <td>1</td>\n",
              "      <td>4</td>\n",
              "      <td>AA</td>\n",
              "      <td>258</td>\n",
              "      <td>N3HYAA</td>\n",
              "      <td>LAX</td>\n",
              "      <td>MIA</td>\n",
              "      <td>20</td>\n",
              "      <td>15.0</td>\n",
              "      <td>-5.0</td>\n",
              "      <td>15.0</td>\n",
              "      <td>30.0</td>\n",
              "      <td>285</td>\n",
              "      <td>281.0</td>\n",
              "      <td>258.0</td>\n",
              "      <td>2342</td>\n",
              "      <td>748.0</td>\n",
              "      <td>8.0</td>\n",
              "      <td>805</td>\n",
              "      <td>756.0</td>\n",
              "      <td>-9.0</td>\n",
              "      <td>0</td>\n",
              "      <td>0</td>\n",
              "      <td>NaN</td>\n",
              "      <td>NaN</td>\n",
              "      <td>NaN</td>\n",
              "      <td>NaN</td>\n",
              "      <td>NaN</td>\n",
              "      <td>NaN</td>\n",
              "    </tr>\n",
              "    <tr>\n",
              "      <th>4</th>\n",
              "      <td>2015</td>\n",
              "      <td>1</td>\n",
              "      <td>1</td>\n",
              "      <td>4</td>\n",
              "      <td>AS</td>\n",
              "      <td>135</td>\n",
              "      <td>N527AS</td>\n",
              "      <td>SEA</td>\n",
              "      <td>ANC</td>\n",
              "      <td>25</td>\n",
              "      <td>24.0</td>\n",
              "      <td>-1.0</td>\n",
              "      <td>11.0</td>\n",
              "      <td>35.0</td>\n",
              "      <td>235</td>\n",
              "      <td>215.0</td>\n",
              "      <td>199.0</td>\n",
              "      <td>1448</td>\n",
              "      <td>254.0</td>\n",
              "      <td>5.0</td>\n",
              "      <td>320</td>\n",
              "      <td>259.0</td>\n",
              "      <td>-21.0</td>\n",
              "      <td>0</td>\n",
              "      <td>0</td>\n",
              "      <td>NaN</td>\n",
              "      <td>NaN</td>\n",
              "      <td>NaN</td>\n",
              "      <td>NaN</td>\n",
              "      <td>NaN</td>\n",
              "      <td>NaN</td>\n",
              "    </tr>\n",
              "    <tr>\n",
              "      <th>...</th>\n",
              "      <td>...</td>\n",
              "      <td>...</td>\n",
              "      <td>...</td>\n",
              "      <td>...</td>\n",
              "      <td>...</td>\n",
              "      <td>...</td>\n",
              "      <td>...</td>\n",
              "      <td>...</td>\n",
              "      <td>...</td>\n",
              "      <td>...</td>\n",
              "      <td>...</td>\n",
              "      <td>...</td>\n",
              "      <td>...</td>\n",
              "      <td>...</td>\n",
              "      <td>...</td>\n",
              "      <td>...</td>\n",
              "      <td>...</td>\n",
              "      <td>...</td>\n",
              "      <td>...</td>\n",
              "      <td>...</td>\n",
              "      <td>...</td>\n",
              "      <td>...</td>\n",
              "      <td>...</td>\n",
              "      <td>...</td>\n",
              "      <td>...</td>\n",
              "      <td>...</td>\n",
              "      <td>...</td>\n",
              "      <td>...</td>\n",
              "      <td>...</td>\n",
              "      <td>...</td>\n",
              "      <td>...</td>\n",
              "    </tr>\n",
              "    <tr>\n",
              "      <th>469963</th>\n",
              "      <td>2015</td>\n",
              "      <td>1</td>\n",
              "      <td>31</td>\n",
              "      <td>6</td>\n",
              "      <td>B6</td>\n",
              "      <td>839</td>\n",
              "      <td>N658JB</td>\n",
              "      <td>JFK</td>\n",
              "      <td>BQN</td>\n",
              "      <td>2359</td>\n",
              "      <td>2359.0</td>\n",
              "      <td>0.0</td>\n",
              "      <td>18.0</td>\n",
              "      <td>17.0</td>\n",
              "      <td>221</td>\n",
              "      <td>200.0</td>\n",
              "      <td>179.0</td>\n",
              "      <td>1576</td>\n",
              "      <td>416.0</td>\n",
              "      <td>3.0</td>\n",
              "      <td>440</td>\n",
              "      <td>419.0</td>\n",
              "      <td>-21.0</td>\n",
              "      <td>0</td>\n",
              "      <td>0</td>\n",
              "      <td>NaN</td>\n",
              "      <td>NaN</td>\n",
              "      <td>NaN</td>\n",
              "      <td>NaN</td>\n",
              "      <td>NaN</td>\n",
              "      <td>NaN</td>\n",
              "    </tr>\n",
              "    <tr>\n",
              "      <th>469964</th>\n",
              "      <td>2015</td>\n",
              "      <td>1</td>\n",
              "      <td>31</td>\n",
              "      <td>6</td>\n",
              "      <td>DL</td>\n",
              "      <td>1887</td>\n",
              "      <td>N855NW</td>\n",
              "      <td>SEA</td>\n",
              "      <td>DTW</td>\n",
              "      <td>2359</td>\n",
              "      <td>2359.0</td>\n",
              "      <td>0.0</td>\n",
              "      <td>16.0</td>\n",
              "      <td>15.0</td>\n",
              "      <td>252</td>\n",
              "      <td>239.0</td>\n",
              "      <td>209.0</td>\n",
              "      <td>1927</td>\n",
              "      <td>644.0</td>\n",
              "      <td>14.0</td>\n",
              "      <td>711</td>\n",
              "      <td>658.0</td>\n",
              "      <td>-13.0</td>\n",
              "      <td>0</td>\n",
              "      <td>0</td>\n",
              "      <td>NaN</td>\n",
              "      <td>NaN</td>\n",
              "      <td>NaN</td>\n",
              "      <td>NaN</td>\n",
              "      <td>NaN</td>\n",
              "      <td>NaN</td>\n",
              "    </tr>\n",
              "    <tr>\n",
              "      <th>469965</th>\n",
              "      <td>2015</td>\n",
              "      <td>1</td>\n",
              "      <td>31</td>\n",
              "      <td>6</td>\n",
              "      <td>F9</td>\n",
              "      <td>300</td>\n",
              "      <td>N218FR</td>\n",
              "      <td>DEN</td>\n",
              "      <td>TPA</td>\n",
              "      <td>2359</td>\n",
              "      <td>2.0</td>\n",
              "      <td>3.0</td>\n",
              "      <td>35.0</td>\n",
              "      <td>37.0</td>\n",
              "      <td>192</td>\n",
              "      <td>212.0</td>\n",
              "      <td>168.0</td>\n",
              "      <td>1506</td>\n",
              "      <td>525.0</td>\n",
              "      <td>9.0</td>\n",
              "      <td>511</td>\n",
              "      <td>534.0</td>\n",
              "      <td>23.0</td>\n",
              "      <td>0</td>\n",
              "      <td>0</td>\n",
              "      <td>NaN</td>\n",
              "      <td>21.0</td>\n",
              "      <td>0.0</td>\n",
              "      <td>2.0</td>\n",
              "      <td>0.0</td>\n",
              "      <td>0.0</td>\n",
              "    </tr>\n",
              "    <tr>\n",
              "      <th>469966</th>\n",
              "      <td>2015</td>\n",
              "      <td>1</td>\n",
              "      <td>31</td>\n",
              "      <td>6</td>\n",
              "      <td>F9</td>\n",
              "      <td>422</td>\n",
              "      <td>N954FR</td>\n",
              "      <td>DEN</td>\n",
              "      <td>ATL</td>\n",
              "      <td>2359</td>\n",
              "      <td>2359.0</td>\n",
              "      <td>0.0</td>\n",
              "      <td>40.0</td>\n",
              "      <td>39.0</td>\n",
              "      <td>162</td>\n",
              "      <td>191.0</td>\n",
              "      <td>141.0</td>\n",
              "      <td>1199</td>\n",
              "      <td>500.0</td>\n",
              "      <td>10.0</td>\n",
              "      <td>441</td>\n",
              "      <td>510.0</td>\n",
              "      <td>29.0</td>\n",
              "      <td>0</td>\n",
              "      <td>0</td>\n",
              "      <td>NaN</td>\n",
              "      <td>29.0</td>\n",
              "      <td>0.0</td>\n",
              "      <td>0.0</td>\n",
              "      <td>0.0</td>\n",
              "      <td>0.0</td>\n",
              "    </tr>\n",
              "    <tr>\n",
              "      <th>469967</th>\n",
              "      <td>2015</td>\n",
              "      <td>1</td>\n",
              "      <td>31</td>\n",
              "      <td>6</td>\n",
              "      <td>UA</td>\n",
              "      <td>1104</td>\n",
              "      <td>N73251</td>\n",
              "      <td>ANC</td>\n",
              "      <td>DEN</td>\n",
              "      <td>2359</td>\n",
              "      <td>2358.0</td>\n",
              "      <td>-1.0</td>\n",
              "      <td>23.0</td>\n",
              "      <td>21.0</td>\n",
              "      <td>309</td>\n",
              "      <td>312.0</td>\n",
              "      <td>282.0</td>\n",
              "      <td>2405</td>\n",
              "      <td>703.0</td>\n",
              "      <td>7.0</td>\n",
              "      <td>708</td>\n",
              "      <td>710.0</td>\n",
              "      <td>2.0</td>\n",
              "      <td>0</td>\n",
              "      <td>0</td>\n",
              "      <td>NaN</td>\n",
              "      <td>NaN</td>\n",
              "      <td>NaN</td>\n",
              "      <td>NaN</td>\n",
              "      <td>NaN</td>\n",
              "      <td>NaN</td>\n",
              "    </tr>\n",
              "  </tbody>\n",
              "</table>\n",
              "<p>469968 rows × 31 columns</p>\n",
              "</div>"
            ],
            "text/plain": [
              "        YEAR  MONTH  DAY  ...  AIRLINE_DELAY LATE_AIRCRAFT_DELAY  WEATHER_DELAY\n",
              "0       2015      1    1  ...            NaN                 NaN            NaN\n",
              "1       2015      1    1  ...            NaN                 NaN            NaN\n",
              "2       2015      1    1  ...            NaN                 NaN            NaN\n",
              "3       2015      1    1  ...            NaN                 NaN            NaN\n",
              "4       2015      1    1  ...            NaN                 NaN            NaN\n",
              "...      ...    ...  ...  ...            ...                 ...            ...\n",
              "469963  2015      1   31  ...            NaN                 NaN            NaN\n",
              "469964  2015      1   31  ...            NaN                 NaN            NaN\n",
              "469965  2015      1   31  ...            2.0                 0.0            0.0\n",
              "469966  2015      1   31  ...            0.0                 0.0            0.0\n",
              "469967  2015      1   31  ...            NaN                 NaN            NaN\n",
              "\n",
              "[469968 rows x 31 columns]"
            ]
          },
          "metadata": {},
          "execution_count": 29
        }
      ]
    },
    {
      "cell_type": "markdown",
      "metadata": {
        "id": "pl42_opyLFRM"
      },
      "source": [
        "### These data around 470000 flights have been recorded in January 2015, distributed on 14 airlines and 323 airports in the United States of America."
      ]
    },
    {
      "cell_type": "markdown",
      "metadata": {
        "id": "79AnkKWVLMIS"
      },
      "source": [
        "# 3. Cleaning the data\n",
        "### Re-organize the columns and deal with the missing data"
      ]
    },
    {
      "cell_type": "markdown",
      "metadata": {
        "id": "E9PthO0rLXT2"
      },
      "source": [
        "## 3.1 Reorganize the dataframe"
      ]
    },
    {
      "cell_type": "code",
      "metadata": {
        "colab": {
          "base_uri": "https://localhost:8080/",
          "height": 204
        },
        "id": "nx_OMTHoPH46",
        "outputId": "197aefd8-7650-4108-cfbb-5cc6f9e01434"
      },
      "source": [
        "variables_to_remove = ['TAXI_OUT', 'TAXI_IN', 'WHEELS_ON', 'WHEELS_OFF', 'YEAR', \n",
        "                       'MONTH','DAY','DAY_OF_WEEK', 'AIR_SYSTEM_DELAY',\n",
        "                       'SECURITY_DELAY', 'AIRLINE_DELAY', 'LATE_AIRCRAFT_DELAY',\n",
        "                       'WEATHER_DELAY', 'DIVERTED', 'CANCELLED', 'CANCELLATION_REASON',\n",
        "                       'FLIGHT_NUMBER', 'TAIL_NUMBER', 'AIR_TIME']\n",
        "df.drop(variables_to_remove, axis = 1, inplace = True)\n",
        "df = df[['AIRLINE', 'ORIGIN_AIRPORT', 'DESTINATION_AIRPORT',\n",
        "        'SCHEDULED_DEPARTURE', 'DEPARTURE_TIME', 'DEPARTURE_DELAY',\n",
        "        'SCHEDULED_ARRIVAL', 'ARRIVAL_TIME', 'ARRIVAL_DELAY',\n",
        "        'SCHEDULED_TIME', 'ELAPSED_TIME']]\n",
        "df[:5]"
      ],
      "execution_count": null,
      "outputs": [
        {
          "output_type": "execute_result",
          "data": {
            "text/html": [
              "<div>\n",
              "<style scoped>\n",
              "    .dataframe tbody tr th:only-of-type {\n",
              "        vertical-align: middle;\n",
              "    }\n",
              "\n",
              "    .dataframe tbody tr th {\n",
              "        vertical-align: top;\n",
              "    }\n",
              "\n",
              "    .dataframe thead th {\n",
              "        text-align: right;\n",
              "    }\n",
              "</style>\n",
              "<table border=\"1\" class=\"dataframe\">\n",
              "  <thead>\n",
              "    <tr style=\"text-align: right;\">\n",
              "      <th></th>\n",
              "      <th>AIRLINE</th>\n",
              "      <th>ORIGIN_AIRPORT</th>\n",
              "      <th>DESTINATION_AIRPORT</th>\n",
              "      <th>SCHEDULED_DEPARTURE</th>\n",
              "      <th>DEPARTURE_TIME</th>\n",
              "      <th>DEPARTURE_DELAY</th>\n",
              "      <th>SCHEDULED_ARRIVAL</th>\n",
              "      <th>ARRIVAL_TIME</th>\n",
              "      <th>ARRIVAL_DELAY</th>\n",
              "      <th>SCHEDULED_TIME</th>\n",
              "      <th>ELAPSED_TIME</th>\n",
              "    </tr>\n",
              "  </thead>\n",
              "  <tbody>\n",
              "    <tr>\n",
              "      <th>0</th>\n",
              "      <td>AS</td>\n",
              "      <td>ANC</td>\n",
              "      <td>SEA</td>\n",
              "      <td>5</td>\n",
              "      <td>2354.0</td>\n",
              "      <td>-11.0</td>\n",
              "      <td>430</td>\n",
              "      <td>408.0</td>\n",
              "      <td>-22.0</td>\n",
              "      <td>205</td>\n",
              "      <td>194.0</td>\n",
              "    </tr>\n",
              "    <tr>\n",
              "      <th>1</th>\n",
              "      <td>AA</td>\n",
              "      <td>LAX</td>\n",
              "      <td>PBI</td>\n",
              "      <td>10</td>\n",
              "      <td>2.0</td>\n",
              "      <td>-8.0</td>\n",
              "      <td>750</td>\n",
              "      <td>741.0</td>\n",
              "      <td>-9.0</td>\n",
              "      <td>280</td>\n",
              "      <td>279.0</td>\n",
              "    </tr>\n",
              "    <tr>\n",
              "      <th>2</th>\n",
              "      <td>US</td>\n",
              "      <td>SFO</td>\n",
              "      <td>CLT</td>\n",
              "      <td>20</td>\n",
              "      <td>18.0</td>\n",
              "      <td>-2.0</td>\n",
              "      <td>806</td>\n",
              "      <td>811.0</td>\n",
              "      <td>5.0</td>\n",
              "      <td>286</td>\n",
              "      <td>293.0</td>\n",
              "    </tr>\n",
              "    <tr>\n",
              "      <th>3</th>\n",
              "      <td>AA</td>\n",
              "      <td>LAX</td>\n",
              "      <td>MIA</td>\n",
              "      <td>20</td>\n",
              "      <td>15.0</td>\n",
              "      <td>-5.0</td>\n",
              "      <td>805</td>\n",
              "      <td>756.0</td>\n",
              "      <td>-9.0</td>\n",
              "      <td>285</td>\n",
              "      <td>281.0</td>\n",
              "    </tr>\n",
              "    <tr>\n",
              "      <th>4</th>\n",
              "      <td>AS</td>\n",
              "      <td>SEA</td>\n",
              "      <td>ANC</td>\n",
              "      <td>25</td>\n",
              "      <td>24.0</td>\n",
              "      <td>-1.0</td>\n",
              "      <td>320</td>\n",
              "      <td>259.0</td>\n",
              "      <td>-21.0</td>\n",
              "      <td>235</td>\n",
              "      <td>215.0</td>\n",
              "    </tr>\n",
              "  </tbody>\n",
              "</table>\n",
              "</div>"
            ],
            "text/plain": [
              "  AIRLINE ORIGIN_AIRPORT  ... SCHEDULED_TIME  ELAPSED_TIME\n",
              "0      AS            ANC  ...            205         194.0\n",
              "1      AA            LAX  ...            280         279.0\n",
              "2      US            SFO  ...            286         293.0\n",
              "3      AA            LAX  ...            285         281.0\n",
              "4      AS            SEA  ...            235         215.0\n",
              "\n",
              "[5 rows x 11 columns]"
            ]
          },
          "metadata": {},
          "execution_count": 30
        }
      ]
    },
    {
      "cell_type": "markdown",
      "metadata": {
        "id": "A5DvVl7ZLvRx"
      },
      "source": [
        "## 3.2 Dealing with missing data"
      ]
    },
    {
      "cell_type": "code",
      "metadata": {
        "colab": {
          "base_uri": "https://localhost:8080/",
          "height": 390
        },
        "id": "RA6-tGb4PTWd",
        "outputId": "725773fa-6dd3-4857-ef23-0363afcc2973"
      },
      "source": [
        "missing_df = df.isnull().sum(axis=0).reset_index()\n",
        "missing_df.columns = ['variable', 'missing values']\n",
        "missing_df['percent of exist data (%)']=(df.shape[0]-missing_df['missing values'])/df.shape[0]*100\n",
        "missing_df.sort_values('percent of exist data (%)').reset_index(drop = True)"
      ],
      "execution_count": null,
      "outputs": [
        {
          "output_type": "execute_result",
          "data": {
            "text/html": [
              "<div>\n",
              "<style scoped>\n",
              "    .dataframe tbody tr th:only-of-type {\n",
              "        vertical-align: middle;\n",
              "    }\n",
              "\n",
              "    .dataframe tbody tr th {\n",
              "        vertical-align: top;\n",
              "    }\n",
              "\n",
              "    .dataframe thead th {\n",
              "        text-align: right;\n",
              "    }\n",
              "</style>\n",
              "<table border=\"1\" class=\"dataframe\">\n",
              "  <thead>\n",
              "    <tr style=\"text-align: right;\">\n",
              "      <th></th>\n",
              "      <th>variable</th>\n",
              "      <th>missing values</th>\n",
              "      <th>percent of exist data (%)</th>\n",
              "    </tr>\n",
              "  </thead>\n",
              "  <tbody>\n",
              "    <tr>\n",
              "      <th>0</th>\n",
              "      <td>ARRIVAL_DELAY</td>\n",
              "      <td>12955</td>\n",
              "      <td>97.243429</td>\n",
              "    </tr>\n",
              "    <tr>\n",
              "      <th>1</th>\n",
              "      <td>ELAPSED_TIME</td>\n",
              "      <td>12955</td>\n",
              "      <td>97.243429</td>\n",
              "    </tr>\n",
              "    <tr>\n",
              "      <th>2</th>\n",
              "      <td>ARRIVAL_TIME</td>\n",
              "      <td>12271</td>\n",
              "      <td>97.388971</td>\n",
              "    </tr>\n",
              "    <tr>\n",
              "      <th>3</th>\n",
              "      <td>DEPARTURE_TIME</td>\n",
              "      <td>11657</td>\n",
              "      <td>97.519618</td>\n",
              "    </tr>\n",
              "    <tr>\n",
              "      <th>4</th>\n",
              "      <td>DEPARTURE_DELAY</td>\n",
              "      <td>11657</td>\n",
              "      <td>97.519618</td>\n",
              "    </tr>\n",
              "    <tr>\n",
              "      <th>5</th>\n",
              "      <td>AIRLINE</td>\n",
              "      <td>0</td>\n",
              "      <td>100.000000</td>\n",
              "    </tr>\n",
              "    <tr>\n",
              "      <th>6</th>\n",
              "      <td>ORIGIN_AIRPORT</td>\n",
              "      <td>0</td>\n",
              "      <td>100.000000</td>\n",
              "    </tr>\n",
              "    <tr>\n",
              "      <th>7</th>\n",
              "      <td>DESTINATION_AIRPORT</td>\n",
              "      <td>0</td>\n",
              "      <td>100.000000</td>\n",
              "    </tr>\n",
              "    <tr>\n",
              "      <th>8</th>\n",
              "      <td>SCHEDULED_DEPARTURE</td>\n",
              "      <td>0</td>\n",
              "      <td>100.000000</td>\n",
              "    </tr>\n",
              "    <tr>\n",
              "      <th>9</th>\n",
              "      <td>SCHEDULED_ARRIVAL</td>\n",
              "      <td>0</td>\n",
              "      <td>100.000000</td>\n",
              "    </tr>\n",
              "    <tr>\n",
              "      <th>10</th>\n",
              "      <td>SCHEDULED_TIME</td>\n",
              "      <td>0</td>\n",
              "      <td>100.000000</td>\n",
              "    </tr>\n",
              "  </tbody>\n",
              "</table>\n",
              "</div>"
            ],
            "text/plain": [
              "               variable  missing values  percent of exist data (%)\n",
              "0         ARRIVAL_DELAY           12955                  97.243429\n",
              "1          ELAPSED_TIME           12955                  97.243429\n",
              "2          ARRIVAL_TIME           12271                  97.388971\n",
              "3        DEPARTURE_TIME           11657                  97.519618\n",
              "4       DEPARTURE_DELAY           11657                  97.519618\n",
              "5               AIRLINE               0                 100.000000\n",
              "6        ORIGIN_AIRPORT               0                 100.000000\n",
              "7   DESTINATION_AIRPORT               0                 100.000000\n",
              "8   SCHEDULED_DEPARTURE               0                 100.000000\n",
              "9     SCHEDULED_ARRIVAL               0                 100.000000\n",
              "10       SCHEDULED_TIME               0                 100.000000"
            ]
          },
          "metadata": {},
          "execution_count": 31
        }
      ]
    },
    {
      "cell_type": "markdown",
      "metadata": {
        "id": "xJD6WwExL298"
      },
      "source": [
        "### Removing the entries that contain missing values because the missing data percentage is very small."
      ]
    },
    {
      "cell_type": "code",
      "metadata": {
        "id": "zlFSl-qnPWDE"
      },
      "source": [
        "df.dropna(inplace = True)"
      ],
      "execution_count": null,
      "outputs": []
    },
    {
      "cell_type": "code",
      "metadata": {
        "colab": {
          "base_uri": "https://localhost:8080/",
          "height": 390
        },
        "id": "NVQAUbWzPXOZ",
        "outputId": "dcd310d1-1e6c-4a04-f1b1-ff94f41e3bae"
      },
      "source": [
        "missing_df = df.isnull().sum(axis=0).reset_index()\n",
        "missing_df.columns = ['variable', 'missing values']\n",
        "missing_df['percent of exist data (%)']=(df.shape[0]-missing_df['missing values'])/df.shape[0]*100\n",
        "missing_df.sort_values('percent of exist data (%)').reset_index(drop = True)"
      ],
      "execution_count": null,
      "outputs": [
        {
          "output_type": "execute_result",
          "data": {
            "text/html": [
              "<div>\n",
              "<style scoped>\n",
              "    .dataframe tbody tr th:only-of-type {\n",
              "        vertical-align: middle;\n",
              "    }\n",
              "\n",
              "    .dataframe tbody tr th {\n",
              "        vertical-align: top;\n",
              "    }\n",
              "\n",
              "    .dataframe thead th {\n",
              "        text-align: right;\n",
              "    }\n",
              "</style>\n",
              "<table border=\"1\" class=\"dataframe\">\n",
              "  <thead>\n",
              "    <tr style=\"text-align: right;\">\n",
              "      <th></th>\n",
              "      <th>variable</th>\n",
              "      <th>missing values</th>\n",
              "      <th>percent of exist data (%)</th>\n",
              "    </tr>\n",
              "  </thead>\n",
              "  <tbody>\n",
              "    <tr>\n",
              "      <th>0</th>\n",
              "      <td>AIRLINE</td>\n",
              "      <td>0</td>\n",
              "      <td>100.0</td>\n",
              "    </tr>\n",
              "    <tr>\n",
              "      <th>1</th>\n",
              "      <td>ORIGIN_AIRPORT</td>\n",
              "      <td>0</td>\n",
              "      <td>100.0</td>\n",
              "    </tr>\n",
              "    <tr>\n",
              "      <th>2</th>\n",
              "      <td>DESTINATION_AIRPORT</td>\n",
              "      <td>0</td>\n",
              "      <td>100.0</td>\n",
              "    </tr>\n",
              "    <tr>\n",
              "      <th>3</th>\n",
              "      <td>SCHEDULED_DEPARTURE</td>\n",
              "      <td>0</td>\n",
              "      <td>100.0</td>\n",
              "    </tr>\n",
              "    <tr>\n",
              "      <th>4</th>\n",
              "      <td>DEPARTURE_TIME</td>\n",
              "      <td>0</td>\n",
              "      <td>100.0</td>\n",
              "    </tr>\n",
              "    <tr>\n",
              "      <th>5</th>\n",
              "      <td>DEPARTURE_DELAY</td>\n",
              "      <td>0</td>\n",
              "      <td>100.0</td>\n",
              "    </tr>\n",
              "    <tr>\n",
              "      <th>6</th>\n",
              "      <td>SCHEDULED_ARRIVAL</td>\n",
              "      <td>0</td>\n",
              "      <td>100.0</td>\n",
              "    </tr>\n",
              "    <tr>\n",
              "      <th>7</th>\n",
              "      <td>ARRIVAL_TIME</td>\n",
              "      <td>0</td>\n",
              "      <td>100.0</td>\n",
              "    </tr>\n",
              "    <tr>\n",
              "      <th>8</th>\n",
              "      <td>ARRIVAL_DELAY</td>\n",
              "      <td>0</td>\n",
              "      <td>100.0</td>\n",
              "    </tr>\n",
              "    <tr>\n",
              "      <th>9</th>\n",
              "      <td>SCHEDULED_TIME</td>\n",
              "      <td>0</td>\n",
              "      <td>100.0</td>\n",
              "    </tr>\n",
              "    <tr>\n",
              "      <th>10</th>\n",
              "      <td>ELAPSED_TIME</td>\n",
              "      <td>0</td>\n",
              "      <td>100.0</td>\n",
              "    </tr>\n",
              "  </tbody>\n",
              "</table>\n",
              "</div>"
            ],
            "text/plain": [
              "               variable  missing values  percent of exist data (%)\n",
              "0               AIRLINE               0                      100.0\n",
              "1        ORIGIN_AIRPORT               0                      100.0\n",
              "2   DESTINATION_AIRPORT               0                      100.0\n",
              "3   SCHEDULED_DEPARTURE               0                      100.0\n",
              "4        DEPARTURE_TIME               0                      100.0\n",
              "5       DEPARTURE_DELAY               0                      100.0\n",
              "6     SCHEDULED_ARRIVAL               0                      100.0\n",
              "7          ARRIVAL_TIME               0                      100.0\n",
              "8         ARRIVAL_DELAY               0                      100.0\n",
              "9        SCHEDULED_TIME               0                      100.0\n",
              "10         ELAPSED_TIME               0                      100.0"
            ]
          },
          "metadata": {},
          "execution_count": 33
        }
      ]
    },
    {
      "cell_type": "markdown",
      "metadata": {
        "id": "zVn8WFS9L9KC"
      },
      "source": [
        "### Data before removing non values 469968\n",
        "### Data after removing non values 457013\n",
        "### Removed data 12955 in percent %02 from the original data"
      ]
    },
    {
      "cell_type": "markdown",
      "metadata": {
        "id": "t5xoA0TcMIZ-"
      },
      "source": [
        "# 4.Comparing Airlines\n",
        "### We need to compare the airlines' companies to know the max, min, and mean delays in flights by doing basic statistical descriptions of the airlines'.\n"
      ]
    },
    {
      "cell_type": "code",
      "metadata": {
        "colab": {
          "base_uri": "https://localhost:8080/",
          "height": 483
        },
        "id": "tHWzBhOkPje-",
        "outputId": "dd774949-9811-4550-a6b1-4386204a3d85"
      },
      "source": [
        "airlines_names = pd.read_csv('https://raw.githubusercontent.com/FaisalSaymeh/Predicting-Flight-Delays/master/airlines.csv')\n",
        "airlines_names"
      ],
      "execution_count": null,
      "outputs": [
        {
          "output_type": "execute_result",
          "data": {
            "text/html": [
              "<div>\n",
              "<style scoped>\n",
              "    .dataframe tbody tr th:only-of-type {\n",
              "        vertical-align: middle;\n",
              "    }\n",
              "\n",
              "    .dataframe tbody tr th {\n",
              "        vertical-align: top;\n",
              "    }\n",
              "\n",
              "    .dataframe thead th {\n",
              "        text-align: right;\n",
              "    }\n",
              "</style>\n",
              "<table border=\"1\" class=\"dataframe\">\n",
              "  <thead>\n",
              "    <tr style=\"text-align: right;\">\n",
              "      <th></th>\n",
              "      <th>IATA_CODE</th>\n",
              "      <th>AIRLINE</th>\n",
              "    </tr>\n",
              "  </thead>\n",
              "  <tbody>\n",
              "    <tr>\n",
              "      <th>0</th>\n",
              "      <td>UA</td>\n",
              "      <td>United Air Lines Inc.</td>\n",
              "    </tr>\n",
              "    <tr>\n",
              "      <th>1</th>\n",
              "      <td>AA</td>\n",
              "      <td>American Airlines Inc.</td>\n",
              "    </tr>\n",
              "    <tr>\n",
              "      <th>2</th>\n",
              "      <td>US</td>\n",
              "      <td>US Airways Inc.</td>\n",
              "    </tr>\n",
              "    <tr>\n",
              "      <th>3</th>\n",
              "      <td>F9</td>\n",
              "      <td>Frontier Airlines Inc.</td>\n",
              "    </tr>\n",
              "    <tr>\n",
              "      <th>4</th>\n",
              "      <td>B6</td>\n",
              "      <td>JetBlue Airways</td>\n",
              "    </tr>\n",
              "    <tr>\n",
              "      <th>5</th>\n",
              "      <td>OO</td>\n",
              "      <td>Skywest Airlines Inc.</td>\n",
              "    </tr>\n",
              "    <tr>\n",
              "      <th>6</th>\n",
              "      <td>AS</td>\n",
              "      <td>Alaska Airlines Inc.</td>\n",
              "    </tr>\n",
              "    <tr>\n",
              "      <th>7</th>\n",
              "      <td>NK</td>\n",
              "      <td>Spirit Air Lines</td>\n",
              "    </tr>\n",
              "    <tr>\n",
              "      <th>8</th>\n",
              "      <td>WN</td>\n",
              "      <td>Southwest Airlines Co.</td>\n",
              "    </tr>\n",
              "    <tr>\n",
              "      <th>9</th>\n",
              "      <td>DL</td>\n",
              "      <td>Delta Air Lines Inc.</td>\n",
              "    </tr>\n",
              "    <tr>\n",
              "      <th>10</th>\n",
              "      <td>EV</td>\n",
              "      <td>Atlantic Southeast Airlines</td>\n",
              "    </tr>\n",
              "    <tr>\n",
              "      <th>11</th>\n",
              "      <td>HA</td>\n",
              "      <td>Hawaiian Airlines Inc.</td>\n",
              "    </tr>\n",
              "    <tr>\n",
              "      <th>12</th>\n",
              "      <td>MQ</td>\n",
              "      <td>American Eagle Airlines Inc.</td>\n",
              "    </tr>\n",
              "    <tr>\n",
              "      <th>13</th>\n",
              "      <td>VX</td>\n",
              "      <td>Virgin America</td>\n",
              "    </tr>\n",
              "  </tbody>\n",
              "</table>\n",
              "</div>"
            ],
            "text/plain": [
              "   IATA_CODE                       AIRLINE\n",
              "0         UA         United Air Lines Inc.\n",
              "1         AA        American Airlines Inc.\n",
              "2         US               US Airways Inc.\n",
              "3         F9        Frontier Airlines Inc.\n",
              "4         B6               JetBlue Airways\n",
              "5         OO         Skywest Airlines Inc.\n",
              "6         AS          Alaska Airlines Inc.\n",
              "7         NK              Spirit Air Lines\n",
              "8         WN        Southwest Airlines Co.\n",
              "9         DL          Delta Air Lines Inc.\n",
              "10        EV   Atlantic Southeast Airlines\n",
              "11        HA        Hawaiian Airlines Inc.\n",
              "12        MQ  American Eagle Airlines Inc.\n",
              "13        VX                Virgin America"
            ]
          },
          "metadata": {},
          "execution_count": 34
        }
      ]
    },
    {
      "cell_type": "code",
      "metadata": {
        "id": "3BBKJp_EPxBb"
      },
      "source": [
        "abbr_companies = airlines_names.set_index('IATA_CODE')['AIRLINE'].to_dict()"
      ],
      "execution_count": null,
      "outputs": []
    },
    {
      "cell_type": "code",
      "metadata": {
        "colab": {
          "base_uri": "https://localhost:8080/",
          "height": 514
        },
        "id": "MeaD-8WbP0Vt",
        "outputId": "b7cceb1b-ea6c-409c-d174-57f889e1f133"
      },
      "source": [
        "# function that extract statistical parameters from a grouby objet:\n",
        "def get_stats(group):\n",
        "    return {'min': group.min(), 'max': group.max(),\n",
        "            'count': group.count(), 'mean': group.mean()}\n",
        "\n",
        "# Creation of a dataframe with statitical infos on each airline:\n",
        "global_stats = df['DEPARTURE_DELAY'].groupby(df['AIRLINE']).apply(get_stats).unstack()\n",
        "global_stats = global_stats.sort_values('count')\n",
        "global_stats"
      ],
      "execution_count": null,
      "outputs": [
        {
          "output_type": "execute_result",
          "data": {
            "text/html": [
              "<div>\n",
              "<style scoped>\n",
              "    .dataframe tbody tr th:only-of-type {\n",
              "        vertical-align: middle;\n",
              "    }\n",
              "\n",
              "    .dataframe tbody tr th {\n",
              "        vertical-align: top;\n",
              "    }\n",
              "\n",
              "    .dataframe thead th {\n",
              "        text-align: right;\n",
              "    }\n",
              "</style>\n",
              "<table border=\"1\" class=\"dataframe\">\n",
              "  <thead>\n",
              "    <tr style=\"text-align: right;\">\n",
              "      <th></th>\n",
              "      <th>min</th>\n",
              "      <th>max</th>\n",
              "      <th>count</th>\n",
              "      <th>mean</th>\n",
              "    </tr>\n",
              "    <tr>\n",
              "      <th>AIRLINE</th>\n",
              "      <th></th>\n",
              "      <th></th>\n",
              "      <th></th>\n",
              "      <th></th>\n",
              "    </tr>\n",
              "  </thead>\n",
              "  <tbody>\n",
              "    <tr>\n",
              "      <th>VX</th>\n",
              "      <td>-20.0</td>\n",
              "      <td>397.0</td>\n",
              "      <td>4647.0</td>\n",
              "      <td>6.896277</td>\n",
              "    </tr>\n",
              "    <tr>\n",
              "      <th>HA</th>\n",
              "      <td>-26.0</td>\n",
              "      <td>1003.0</td>\n",
              "      <td>6408.0</td>\n",
              "      <td>1.311954</td>\n",
              "    </tr>\n",
              "    <tr>\n",
              "      <th>F9</th>\n",
              "      <td>-32.0</td>\n",
              "      <td>696.0</td>\n",
              "      <td>6735.0</td>\n",
              "      <td>17.910765</td>\n",
              "    </tr>\n",
              "    <tr>\n",
              "      <th>NK</th>\n",
              "      <td>-28.0</td>\n",
              "      <td>557.0</td>\n",
              "      <td>8632.0</td>\n",
              "      <td>13.073100</td>\n",
              "    </tr>\n",
              "    <tr>\n",
              "      <th>AS</th>\n",
              "      <td>-47.0</td>\n",
              "      <td>444.0</td>\n",
              "      <td>13151.0</td>\n",
              "      <td>3.072086</td>\n",
              "    </tr>\n",
              "    <tr>\n",
              "      <th>B6</th>\n",
              "      <td>-27.0</td>\n",
              "      <td>500.0</td>\n",
              "      <td>20482.0</td>\n",
              "      <td>9.988331</td>\n",
              "    </tr>\n",
              "    <tr>\n",
              "      <th>MQ</th>\n",
              "      <td>-29.0</td>\n",
              "      <td>780.0</td>\n",
              "      <td>27568.0</td>\n",
              "      <td>15.995865</td>\n",
              "    </tr>\n",
              "    <tr>\n",
              "      <th>US</th>\n",
              "      <td>-26.0</td>\n",
              "      <td>638.0</td>\n",
              "      <td>32478.0</td>\n",
              "      <td>5.175011</td>\n",
              "    </tr>\n",
              "    <tr>\n",
              "      <th>UA</th>\n",
              "      <td>-40.0</td>\n",
              "      <td>886.0</td>\n",
              "      <td>37363.0</td>\n",
              "      <td>13.885555</td>\n",
              "    </tr>\n",
              "    <tr>\n",
              "      <th>AA</th>\n",
              "      <td>-29.0</td>\n",
              "      <td>1988.0</td>\n",
              "      <td>43074.0</td>\n",
              "      <td>10.548335</td>\n",
              "    </tr>\n",
              "    <tr>\n",
              "      <th>OO</th>\n",
              "      <td>-48.0</td>\n",
              "      <td>931.0</td>\n",
              "      <td>46655.0</td>\n",
              "      <td>11.999957</td>\n",
              "    </tr>\n",
              "    <tr>\n",
              "      <th>EV</th>\n",
              "      <td>-33.0</td>\n",
              "      <td>726.0</td>\n",
              "      <td>48084.0</td>\n",
              "      <td>9.678895</td>\n",
              "    </tr>\n",
              "    <tr>\n",
              "      <th>DL</th>\n",
              "      <td>-26.0</td>\n",
              "      <td>1184.0</td>\n",
              "      <td>63676.0</td>\n",
              "      <td>5.888215</td>\n",
              "    </tr>\n",
              "    <tr>\n",
              "      <th>WN</th>\n",
              "      <td>-15.0</td>\n",
              "      <td>604.0</td>\n",
              "      <td>98060.0</td>\n",
              "      <td>9.453426</td>\n",
              "    </tr>\n",
              "  </tbody>\n",
              "</table>\n",
              "</div>"
            ],
            "text/plain": [
              "          min     max    count       mean\n",
              "AIRLINE                                  \n",
              "VX      -20.0   397.0   4647.0   6.896277\n",
              "HA      -26.0  1003.0   6408.0   1.311954\n",
              "F9      -32.0   696.0   6735.0  17.910765\n",
              "NK      -28.0   557.0   8632.0  13.073100\n",
              "AS      -47.0   444.0  13151.0   3.072086\n",
              "B6      -27.0   500.0  20482.0   9.988331\n",
              "MQ      -29.0   780.0  27568.0  15.995865\n",
              "US      -26.0   638.0  32478.0   5.175011\n",
              "UA      -40.0   886.0  37363.0  13.885555\n",
              "AA      -29.0  1988.0  43074.0  10.548335\n",
              "OO      -48.0   931.0  46655.0  11.999957\n",
              "EV      -33.0   726.0  48084.0   9.678895\n",
              "DL      -26.0  1184.0  63676.0   5.888215\n",
              "WN      -15.0   604.0  98060.0   9.453426"
            ]
          },
          "metadata": {},
          "execution_count": 36
        }
      ]
    },
    {
      "cell_type": "code",
      "metadata": {
        "colab": {
          "base_uri": "https://localhost:8080/",
          "height": 436
        },
        "id": "lf5JFVoHfBof",
        "outputId": "682172da-a4db-43c1-cdc9-dea3eaa903b8"
      },
      "source": [
        "airline = str(input('Enter Ailine IATA Code: '))\n",
        "df.loc[df['AIRLINE']==airline]"
      ],
      "execution_count": null,
      "outputs": [
        {
          "name": "stdout",
          "output_type": "stream",
          "text": [
            "Enter Ailine IATA Code: AA\n"
          ]
        },
        {
          "output_type": "execute_result",
          "data": {
            "text/html": [
              "<div>\n",
              "<style scoped>\n",
              "    .dataframe tbody tr th:only-of-type {\n",
              "        vertical-align: middle;\n",
              "    }\n",
              "\n",
              "    .dataframe tbody tr th {\n",
              "        vertical-align: top;\n",
              "    }\n",
              "\n",
              "    .dataframe thead th {\n",
              "        text-align: right;\n",
              "    }\n",
              "</style>\n",
              "<table border=\"1\" class=\"dataframe\">\n",
              "  <thead>\n",
              "    <tr style=\"text-align: right;\">\n",
              "      <th></th>\n",
              "      <th>AIRLINE</th>\n",
              "      <th>ORIGIN_AIRPORT</th>\n",
              "      <th>DESTINATION_AIRPORT</th>\n",
              "      <th>SCHEDULED_DEPARTURE</th>\n",
              "      <th>DEPARTURE_TIME</th>\n",
              "      <th>DEPARTURE_DELAY</th>\n",
              "      <th>SCHEDULED_ARRIVAL</th>\n",
              "      <th>ARRIVAL_TIME</th>\n",
              "      <th>ARRIVAL_DELAY</th>\n",
              "      <th>SCHEDULED_TIME</th>\n",
              "      <th>ELAPSED_TIME</th>\n",
              "    </tr>\n",
              "  </thead>\n",
              "  <tbody>\n",
              "    <tr>\n",
              "      <th>1</th>\n",
              "      <td>AA</td>\n",
              "      <td>LAX</td>\n",
              "      <td>PBI</td>\n",
              "      <td>10</td>\n",
              "      <td>2.0</td>\n",
              "      <td>-8.0</td>\n",
              "      <td>750</td>\n",
              "      <td>741.0</td>\n",
              "      <td>-9.0</td>\n",
              "      <td>280</td>\n",
              "      <td>279.0</td>\n",
              "    </tr>\n",
              "    <tr>\n",
              "      <th>3</th>\n",
              "      <td>AA</td>\n",
              "      <td>LAX</td>\n",
              "      <td>MIA</td>\n",
              "      <td>20</td>\n",
              "      <td>15.0</td>\n",
              "      <td>-5.0</td>\n",
              "      <td>805</td>\n",
              "      <td>756.0</td>\n",
              "      <td>-9.0</td>\n",
              "      <td>285</td>\n",
              "      <td>281.0</td>\n",
              "    </tr>\n",
              "    <tr>\n",
              "      <th>8</th>\n",
              "      <td>AA</td>\n",
              "      <td>SFO</td>\n",
              "      <td>DFW</td>\n",
              "      <td>30</td>\n",
              "      <td>19.0</td>\n",
              "      <td>-11.0</td>\n",
              "      <td>545</td>\n",
              "      <td>532.0</td>\n",
              "      <td>-13.0</td>\n",
              "      <td>195</td>\n",
              "      <td>193.0</td>\n",
              "    </tr>\n",
              "    <tr>\n",
              "      <th>11</th>\n",
              "      <td>AA</td>\n",
              "      <td>LAS</td>\n",
              "      <td>MIA</td>\n",
              "      <td>35</td>\n",
              "      <td>27.0</td>\n",
              "      <td>-8.0</td>\n",
              "      <td>803</td>\n",
              "      <td>753.0</td>\n",
              "      <td>-10.0</td>\n",
              "      <td>268</td>\n",
              "      <td>266.0</td>\n",
              "    </tr>\n",
              "    <tr>\n",
              "      <th>21</th>\n",
              "      <td>AA</td>\n",
              "      <td>SEA</td>\n",
              "      <td>MIA</td>\n",
              "      <td>100</td>\n",
              "      <td>52.0</td>\n",
              "      <td>-8.0</td>\n",
              "      <td>938</td>\n",
              "      <td>939.0</td>\n",
              "      <td>1.0</td>\n",
              "      <td>338</td>\n",
              "      <td>347.0</td>\n",
              "    </tr>\n",
              "    <tr>\n",
              "      <th>...</th>\n",
              "      <td>...</td>\n",
              "      <td>...</td>\n",
              "      <td>...</td>\n",
              "      <td>...</td>\n",
              "      <td>...</td>\n",
              "      <td>...</td>\n",
              "      <td>...</td>\n",
              "      <td>...</td>\n",
              "      <td>...</td>\n",
              "      <td>...</td>\n",
              "      <td>...</td>\n",
              "    </tr>\n",
              "    <tr>\n",
              "      <th>469939</th>\n",
              "      <td>AA</td>\n",
              "      <td>MIA</td>\n",
              "      <td>MCO</td>\n",
              "      <td>2349</td>\n",
              "      <td>2346.0</td>\n",
              "      <td>-3.0</td>\n",
              "      <td>49</td>\n",
              "      <td>39.0</td>\n",
              "      <td>-10.0</td>\n",
              "      <td>60</td>\n",
              "      <td>53.0</td>\n",
              "    </tr>\n",
              "    <tr>\n",
              "      <th>469943</th>\n",
              "      <td>AA</td>\n",
              "      <td>SFO</td>\n",
              "      <td>MIA</td>\n",
              "      <td>2350</td>\n",
              "      <td>2345.0</td>\n",
              "      <td>-5.0</td>\n",
              "      <td>800</td>\n",
              "      <td>753.0</td>\n",
              "      <td>-7.0</td>\n",
              "      <td>310</td>\n",
              "      <td>308.0</td>\n",
              "    </tr>\n",
              "    <tr>\n",
              "      <th>469944</th>\n",
              "      <td>AA</td>\n",
              "      <td>SEA</td>\n",
              "      <td>DFW</td>\n",
              "      <td>2350</td>\n",
              "      <td>2350.0</td>\n",
              "      <td>0.0</td>\n",
              "      <td>527</td>\n",
              "      <td>519.0</td>\n",
              "      <td>-8.0</td>\n",
              "      <td>217</td>\n",
              "      <td>209.0</td>\n",
              "    </tr>\n",
              "    <tr>\n",
              "      <th>469949</th>\n",
              "      <td>AA</td>\n",
              "      <td>LAX</td>\n",
              "      <td>ORD</td>\n",
              "      <td>2354</td>\n",
              "      <td>2351.0</td>\n",
              "      <td>-3.0</td>\n",
              "      <td>550</td>\n",
              "      <td>553.0</td>\n",
              "      <td>3.0</td>\n",
              "      <td>236</td>\n",
              "      <td>242.0</td>\n",
              "    </tr>\n",
              "    <tr>\n",
              "      <th>469950</th>\n",
              "      <td>AA</td>\n",
              "      <td>SEA</td>\n",
              "      <td>MIA</td>\n",
              "      <td>2355</td>\n",
              "      <td>2349.0</td>\n",
              "      <td>-6.0</td>\n",
              "      <td>826</td>\n",
              "      <td>808.0</td>\n",
              "      <td>-18.0</td>\n",
              "      <td>331</td>\n",
              "      <td>319.0</td>\n",
              "    </tr>\n",
              "  </tbody>\n",
              "</table>\n",
              "<p>43074 rows × 11 columns</p>\n",
              "</div>"
            ],
            "text/plain": [
              "       AIRLINE ORIGIN_AIRPORT  ... SCHEDULED_TIME  ELAPSED_TIME\n",
              "1           AA            LAX  ...            280         279.0\n",
              "3           AA            LAX  ...            285         281.0\n",
              "8           AA            SFO  ...            195         193.0\n",
              "11          AA            LAS  ...            268         266.0\n",
              "21          AA            SEA  ...            338         347.0\n",
              "...        ...            ...  ...            ...           ...\n",
              "469939      AA            MIA  ...             60          53.0\n",
              "469943      AA            SFO  ...            310         308.0\n",
              "469944      AA            SEA  ...            217         209.0\n",
              "469949      AA            LAX  ...            236         242.0\n",
              "469950      AA            SEA  ...            331         319.0\n",
              "\n",
              "[43074 rows x 11 columns]"
            ]
          },
          "metadata": {},
          "execution_count": 37
        }
      ]
    },
    {
      "cell_type": "code",
      "metadata": {
        "id": "vfhU0v5Acx4n"
      },
      "source": [
        ""
      ],
      "execution_count": null,
      "outputs": []
    },
    {
      "cell_type": "markdown",
      "metadata": {
        "id": "FoPDUnZrN1C7"
      },
      "source": [
        "# 5. Splitting Data and Encoding Categorical Data"
      ]
    },
    {
      "cell_type": "code",
      "metadata": {
        "id": "JrP8X9u9Q7PT"
      },
      "source": [
        "X = df.iloc[:,:-1].values\n",
        "Y = df.iloc[:,-1].values"
      ],
      "execution_count": null,
      "outputs": []
    },
    {
      "cell_type": "markdown",
      "metadata": {
        "id": "fPs-LiJbOEWV"
      },
      "source": [
        "### Encoding Independent Variables"
      ]
    },
    {
      "cell_type": "code",
      "metadata": {
        "colab": {
          "base_uri": "https://localhost:8080/"
        },
        "id": "CGmlZjtjRAiO",
        "outputId": "41eca5e0-bb99-4b9a-8a67-306c40845f6c"
      },
      "source": [
        "ct = ColumnTransformer(transformers= [('encoder',OneHotEncoder(),[0,1,2])], remainder= 'passthrough')\n",
        "X = ct.fit_transform(X)\n",
        "X"
      ],
      "execution_count": null,
      "outputs": [
        {
          "output_type": "execute_result",
          "data": {
            "text/plain": [
              "<457013x645 sparse matrix of type '<class 'numpy.float64'>'\n",
              "\twith 4535774 stored elements in Compressed Sparse Row format>"
            ]
          },
          "metadata": {},
          "execution_count": 39
        }
      ]
    },
    {
      "cell_type": "markdown",
      "metadata": {
        "id": "inUy-3pUOUCD"
      },
      "source": [
        "### Splitting the data into training and testing datasets"
      ]
    },
    {
      "cell_type": "code",
      "metadata": {
        "id": "abydLsydRTCy"
      },
      "source": [
        "X_train, X_test, Y_train, Y_test = train_test_split(X,Y,test_size = 0.2)"
      ],
      "execution_count": null,
      "outputs": []
    },
    {
      "cell_type": "markdown",
      "metadata": {
        "id": "P1YNdhKTOfF6"
      },
      "source": [
        " # 6. Predicting flight delays by Machine Learning Models (Regression)"
      ]
    },
    {
      "cell_type": "markdown",
      "metadata": {
        "id": "RHW26-fBgN-g"
      },
      "source": [
        "## 6.1 Linear Regression"
      ]
    },
    {
      "cell_type": "code",
      "metadata": {
        "colab": {
          "base_uri": "https://localhost:8080/"
        },
        "id": "49EuQUeDf91w",
        "outputId": "46e8c97b-9c61-4ab9-e095-c65382ce6c59"
      },
      "source": [
        "lm = linear_model.LinearRegression()\n",
        "model = lm.fit(X_train,Y_train)\n",
        "prediction1 = lm.predict(X_test)\n",
        "print(\"MSE =\", metrics.mean_squared_error(Y_test,prediction1))\n",
        "print(\"R2 Score =\", r2_score(Y_test, prediction1))"
      ],
      "execution_count": null,
      "outputs": [
        {
          "output_type": "stream",
          "name": "stdout",
          "text": [
            "MSE = 1.812210640430443e-09\n",
            "R2 Score = 0.9999999999996676\n"
          ]
        }
      ]
    },
    {
      "cell_type": "code",
      "metadata": {
        "colab": {
          "base_uri": "https://localhost:8080/"
        },
        "id": "DMz3lSvMgGmd",
        "outputId": "0482f887-074e-4eda-9b0f-f7eeb08dcf43"
      },
      "source": [
        "tips = pd.DataFrame()\n",
        "tips[\"prediction\"] = pd.Series([float(s) for s in prediction1]) \n",
        "tips[\"original_data\"] = pd.Series([float(s) for s in Y_test]) \n",
        "sns.jointplot(x=\"original_data\", y=\"prediction\", data=tips, size = 6, ratio = 7,\n",
        "              joint_kws={'line_kws':{'color':'limegreen'}}, kind='reg')\n",
        "plt.xlabel('Mean delays (min)', fontsize = 15)\n",
        "plt.ylabel('Predictions (min)', fontsize = 15)\n",
        "plt.plot(list(range(-10,25)), list(range(-10,25)), linestyle = ':', color = 'r')"
      ],
      "execution_count": null,
      "outputs": [
        {
          "output_type": "execute_result",
          "data": {
            "text/plain": [
              "[<matplotlib.lines.Line2D at 0x7f83581aba10>]"
            ]
          },
          "metadata": {},
          "execution_count": 42
        },
        {
          "output_type": "display_data",
          "data": {
            "image/png": "[encoded data removed]",
            "text/plain": [
              "<Figure size 432x432 with 3 Axes>"
            ]
          },
          "metadata": {
            "needs_background": "light"
          }
        }
      ]
    },
    {
      "cell_type": "markdown",
      "metadata": {
        "id": "VdjB6u_WfCYL"
      },
      "source": [
        "## 6.2  Polynomial"
      ]
    },
    {
      "cell_type": "code",
      "metadata": {
        "colab": {
          "base_uri": "https://localhost:8080/"
        },
        "id": "pWSlTaRFeGXA",
        "outputId": "1df8d45e-7742-4731-ffd2-0f0b2f699e90"
      },
      "source": [
        "poly = PolynomialFeatures(degree = 2)\n",
        "regr = linear_model.LinearRegression()\n",
        "X_ = poly.fit_transform(X_test)\n",
        "regr.fit(X_, Y_test)\n",
        "prediction2 = regr.predict(X_)\n",
        "print(\"MSE =\", metrics.mean_squared_error(Y_test,prediction2))\n",
        "print(\"R2 Score =\", r2_score(Y_test, prediction2))"
      ],
      "execution_count": null,
      "outputs": [
        {
          "output_type": "stream",
          "name": "stdout",
          "text": [
            "MSE = 2.5429706341927583\n",
            "R2 Score = 0.9995335553782245\n"
          ]
        }
      ]
    },
    {
      "cell_type": "code",
      "metadata": {
        "colab": {
          "base_uri": "https://localhost:8080/",
          "height": 458
        },
        "id": "N7QuZ6paeU-8",
        "outputId": "553d8168-9052-4972-aa3d-24e2e00f7482"
      },
      "source": [
        "tips = pd.DataFrame()\n",
        "tips[\"prediction\"] = pd.Series([float(s) for s in prediction2]) \n",
        "tips[\"original_data\"] = pd.Series([float(s) for s in Y_test]) \n",
        "sns.jointplot(x=\"original_data\", y=\"prediction\", data=tips, size = 6, ratio = 7,\n",
        "              joint_kws={'line_kws':{'color':'limegreen'}}, kind='reg')\n",
        "plt.xlabel('Mean delays (min)', fontsize = 15)\n",
        "plt.ylabel('Predictions (min)', fontsize = 15)\n",
        "plt.plot(list(range(-10,25)), list(range(-10,25)), linestyle = ':', color = 'r')"
      ],
      "execution_count": null,
      "outputs": [
        {
          "output_type": "execute_result",
          "data": {
            "text/plain": [
              "[<matplotlib.lines.Line2D at 0x7f834f012890>]"
            ]
          },
          "metadata": {},
          "execution_count": 44
        },
        {
          "output_type": "display_data",
          "data": {
            "image/png": "[encoded data removed]",
            "text/plain": [
              "<Figure size 432x432 with 3 Axes>"
            ]
          },
          "metadata": {
            "needs_background": "light"
          }
        }
      ]
    },
    {
      "cell_type": "markdown",
      "metadata": {
        "id": "8T6vV5_crTlu"
      },
      "source": [
        "## 6.3 Ridge Regression"
      ]
    },
    {
      "cell_type": "code",
      "metadata": {
        "colab": {
          "base_uri": "https://localhost:8080/"
        },
        "id": "6-NgPwh4lxUz",
        "outputId": "35dd288d-572e-4267-867a-476f7530ba1b"
      },
      "source": [
        "ridgereg = Ridge(alpha=0.3,normalize=True)\n",
        "poly = PolynomialFeatures(degree = 2)\n",
        "X_ = poly.fit_transform(X_train)\n",
        "ridgereg.fit(X_, Y_train)\n",
        "X_ = poly.fit_transform(X_test)\n",
        "prediction3 = ridgereg.predict(X_)\n",
        "print(\"MSE =\", metrics.mean_squared_error(Y_test,prediction3))\n",
        "print(\"R2 Score =\", r2_score(Y_test, prediction3))"
      ],
      "execution_count": null,
      "outputs": [
        {
          "output_type": "stream",
          "name": "stdout",
          "text": [
            "MSE = 73.25872476114971\n",
            "R2 Score = 0.9865625116926238\n"
          ]
        }
      ]
    },
    {
      "cell_type": "code",
      "metadata": {
        "colab": {
          "base_uri": "https://localhost:8080/"
        },
        "id": "GfVqbMySl1Ai",
        "outputId": "35c4c3b6-5651-4458-87c0-550b3e659974"
      },
      "source": [
        "tips = pd.DataFrame()\n",
        "tips[\"prediction\"] = pd.Series([float(s) for s in prediction3]) \n",
        "tips[\"original_data\"] = pd.Series([float(s) for s in Y_test]) \n",
        "sns.jointplot(x=\"original_data\", y=\"prediction\", data=tips, size = 6, ratio = 7,\n",
        "              joint_kws={'line_kws':{'color':'limegreen'}}, kind='reg')\n",
        "plt.xlabel('Mean delays (min)', fontsize = 15)\n",
        "plt.ylabel('Predictions (min)', fontsize = 15)\n",
        "plt.plot(list(range(-10,25)), list(range(-10,25)), linestyle = ':', color = 'r')"
      ],
      "execution_count": null,
      "outputs": [
        {
          "output_type": "execute_result",
          "data": {
            "text/plain": [
              "[<matplotlib.lines.Line2D at 0x7f834ead1210>]"
            ]
          },
          "metadata": {},
          "execution_count": 46
        },
        {
          "output_type": "display_data",
          "data": {
            "image/png": "[encoded data removed]",
            "text/plain": [
              "<Figure size 432x432 with 3 Axes>"
            ]
          },
          "metadata": {
            "needs_background": "light"
          }
        }
      ]
    },
    {
      "cell_type": "markdown",
      "metadata": {
        "id": "JmPTLL6zg4eT"
      },
      "source": [
        "## 6.4 Lasso"
      ]
    },
    {
      "cell_type": "code",
      "metadata": {
        "colab": {
          "base_uri": "https://localhost:8080/"
        },
        "id": "fLeoxrpkgbBH",
        "outputId": "10444848-9e4a-4725-9e84-63c22c27d890"
      },
      "source": [
        "from sklearn.linear_model import Lasso\n",
        "model = Lasso(alpha=1.0)\n",
        "model.fit(X_train, Y_train)\n",
        "prediction4 = model.predict(X_test)\n",
        "print(\"MSE =\",metrics.mean_squared_error( Y_test,prediction4))\n",
        "print(\"R2 Score =\", r2_score(Y_test, prediction4))"
      ],
      "execution_count": null,
      "outputs": [
        {
          "output_type": "stream",
          "name": "stdout",
          "text": [
            "MSE = 0.024500318578869935\n",
            "R2 Score = 0.9999955060268179\n"
          ]
        }
      ]
    },
    {
      "cell_type": "code",
      "metadata": {
        "colab": {
          "base_uri": "https://localhost:8080/"
        },
        "id": "px3elWBJg0Mh",
        "outputId": "cd90b4b7-e051-4d28-a81d-580784eb262e"
      },
      "source": [
        "tips = pd.DataFrame()\n",
        "tips[\"prediction\"] = pd.Series([float(s) for s in prediction4]) \n",
        "tips[\"original_data\"] = pd.Series([float(s) for s in Y_test]) \n",
        "sns.jointplot(x=\"original_data\", y=\"prediction\", data=tips, size = 6, ratio = 7,\n",
        "              joint_kws={'line_kws':{'color':'limegreen'}}, kind='reg')\n",
        "plt.xlabel('Mean delays (min)', fontsize = 15)\n",
        "plt.ylabel('Predictions (min)', fontsize = 15)\n",
        "plt.plot(list(range(-10,25)), list(range(-10,25)), linestyle = ':', color = 'r')"
      ],
      "execution_count": null,
      "outputs": [
        {
          "output_type": "execute_result",
          "data": {
            "text/plain": [
              "[<matplotlib.lines.Line2D at 0x7f834e52bfd0>]"
            ]
          },
          "metadata": {},
          "execution_count": 48
        },
        {
          "output_type": "display_data",
          "data": {
            "image/png": "[encoded data removed]",
            "text/plain": [
              "<Figure size 432x432 with 3 Axes>"
            ]
          },
          "metadata": {
            "needs_background": "light"
          }
        }
      ]
    },
    {
      "cell_type": "markdown",
      "metadata": {
        "id": "i3GdHpNNegG2"
      },
      "source": [
        "## 6.5 KNN"
      ]
    },
    {
      "cell_type": "code",
      "metadata": {
        "colab": {
          "base_uri": "https://localhost:8080/"
        },
        "id": "EXjMF1R2JEHn",
        "outputId": "b2af8aa7-2ec6-485c-bf07-10c9bfaaa3cf"
      },
      "source": [
        "neigh = KNeighborsRegressor(n_neighbors=2)\n",
        "neigh.fit(X_train, Y_train)\n",
        "prediction5 = neigh.predict(X_test)\n",
        "print(\"MSE =\",metrics.mean_squared_error(Y_test,prediction5))\n",
        "print(\"R2 Score =\", r2_score(Y_test, prediction5))"
      ],
      "execution_count": null,
      "outputs": [
        {
          "output_type": "stream",
          "name": "stdout",
          "text": [
            "MSE = 36.750273513998444\n",
            "R2 Score = 0.9932590777105758\n"
          ]
        }
      ]
    },
    {
      "cell_type": "code",
      "metadata": {
        "colab": {
          "base_uri": "https://localhost:8080/",
          "height": 458
        },
        "id": "-ErH8aJTekrS",
        "outputId": "889f9896-63f0-42ce-aae7-f9636474fd12"
      },
      "source": [
        "tips = pd.DataFrame()\n",
        "tips[\"prediction\"] = pd.Series([float(s) for s in prediction5]) \n",
        "tips[\"original_data\"] = pd.Series([float(s) for s in Y_test]) \n",
        "sns.jointplot(x=\"original_data\", y=\"prediction\", data=tips, size = 6, ratio = 7,\n",
        "              joint_kws={'line_kws':{'color':'limegreen'}}, kind='reg')\n",
        "plt.xlabel('Mean delays (min)', fontsize = 15)\n",
        "plt.ylabel('Predictions (min)', fontsize = 15)\n",
        "plt.plot(list(range(-10,25)), list(range(-10,25)), linestyle = ':', color = 'r')"
      ],
      "execution_count": null,
      "outputs": [
        {
          "output_type": "execute_result",
          "data": {
            "text/plain": [
              "[<matplotlib.lines.Line2D at 0x7f834dfe7ed0>]"
            ]
          },
          "metadata": {},
          "execution_count": 50
        },
        {
          "output_type": "display_data",
          "data": {
            "image/png": "[encoded data removed]",
            "text/plain": [
              "<Figure size 432x432 with 3 Axes>"
            ]
          },
          "metadata": {
            "needs_background": "light"
          }
        }
      ]
    },
    {
      "cell_type": "markdown",
      "metadata": {
        "id": "Xy7sqKm2ldKz"
      },
      "source": [
        "## 6.6 Multiple Linear Regression"
      ]
    },
    {
      "cell_type": "code",
      "metadata": {
        "colab": {
          "base_uri": "https://localhost:8080/"
        },
        "id": "zayEDrBxjDvF",
        "outputId": "8d4b0d19-33fb-4d1f-d01f-f887c058e7d5"
      },
      "source": [
        "regr = linear_model.LinearRegression()\n",
        "regr.fit(X_train, Y_train)\n",
        "prediction6 = regr.predict(X_test)\n",
        "print(\"MSE =\",metrics.mean_squared_error( Y_test,prediction6))\n",
        "print(\"R2 Score =\", r2_score(Y_test, prediction6))"
      ],
      "execution_count": null,
      "outputs": [
        {
          "output_type": "stream",
          "name": "stdout",
          "text": [
            "MSE = 1.812210640430443e-09\n",
            "R2 Score = 0.9999999999996676\n"
          ]
        }
      ]
    },
    {
      "cell_type": "code",
      "metadata": {
        "colab": {
          "base_uri": "https://localhost:8080/"
        },
        "id": "U8wc6J70jtlQ",
        "outputId": "acfa1e8c-0d16-4450-e9f4-53e135450917"
      },
      "source": [
        "tips = pd.DataFrame()\n",
        "tips[\"prediction\"] = pd.Series([float(s) for s in prediction6]) \n",
        "tips[\"original_data\"] = pd.Series([float(s) for s in Y_test]) \n",
        "sns.jointplot(x=\"original_data\", y=\"prediction\", data=tips, size = 6, ratio = 7,\n",
        "              joint_kws={'line_kws':{'color':'limegreen'}}, kind='reg')\n",
        "plt.xlabel('Mean delays (min)', fontsize = 15)\n",
        "plt.ylabel('Predictions (min)', fontsize = 15)\n",
        "plt.plot(list(range(-10,25)), list(range(-10,25)), linestyle = ':', color = 'r')"
      ],
      "execution_count": null,
      "outputs": [
        {
          "output_type": "execute_result",
          "data": {
            "text/plain": [
              "[<matplotlib.lines.Line2D at 0x7f834dcc5190>]"
            ]
          },
          "metadata": {},
          "execution_count": 52
        },
        {
          "output_type": "display_data",
          "data": {
            "image/png": "[encoded data removed]",
            "text/plain": [
              "<Figure size 432x432 with 3 Axes>"
            ]
          },
          "metadata": {
            "needs_background": "light"
          }
        }
      ]
    },
    {
      "cell_type": "markdown",
      "metadata": {
        "id": "vt3Pj6firvpA"
      },
      "source": [
        "## 6.7 Sorting R2 Score For The Models"
      ]
    },
    {
      "cell_type": "code",
      "metadata": {
        "colab": {
          "base_uri": "https://localhost:8080/"
        },
        "id": "LFEqd0bgr0qb",
        "outputId": "3537919f-f9be-4f4a-ff73-0110ba37abef"
      },
      "source": [
        "pr1 = r2_score(Y_test, prediction1)\n",
        "pr2 = r2_score(Y_test, prediction2)\n",
        "pr3 = r2_score(Y_test, prediction3)\n",
        "pr4 = r2_score(Y_test, prediction4)\n",
        "pr5 = r2_score(Y_test, prediction5)\n",
        "pr6 = r2_score(Y_test, prediction6)\n",
        "\n",
        "list_of_R2 = {'Linear Regression':pr1, 'Polynomial Regression':pr2, 'Ridge Regression':pr3, 'Lasso':pr4,'KNN':pr5, 'Multiple Linear Regression':pr6}\n",
        "list_of_R2"
      ],
      "execution_count": null,
      "outputs": [
        {
          "output_type": "execute_result",
          "data": {
            "text/plain": [
              "{'KNN': 0.9932590777105758,\n",
              " 'Lasso': 0.9999955060268179,\n",
              " 'Linear Regression': 0.9999999999996676,\n",
              " 'Multiple Linear Regression': 0.9999999999996676,\n",
              " 'Polynomial Regression': 0.9995335553782245,\n",
              " 'Ridge Regression': 0.9865625116926238}"
            ]
          },
          "metadata": {},
          "execution_count": 53
        }
      ]
    },
    {
      "cell_type": "code",
      "metadata": {
        "colab": {
          "base_uri": "https://localhost:8080/"
        },
        "id": "IeC9gqmOw-p2",
        "outputId": "185a7b0d-7557-40c0-e983-854b431511dc"
      },
      "source": [
        "data_items = list_of_R2.items()\n",
        "data_list = list(data_items)\n",
        "df2 = pd.DataFrame(data_list)\n",
        "df2.columns = ['Model','R2']\n",
        "df2.sort_values('R2').reset_index(drop = True)"
      ],
      "execution_count": null,
      "outputs": [
        {
          "output_type": "execute_result",
          "data": {
            "text/html": [
              "<div>\n",
              "<style scoped>\n",
              "    .dataframe tbody tr th:only-of-type {\n",
              "        vertical-align: middle;\n",
              "    }\n",
              "\n",
              "    .dataframe tbody tr th {\n",
              "        vertical-align: top;\n",
              "    }\n",
              "\n",
              "    .dataframe thead th {\n",
              "        text-align: right;\n",
              "    }\n",
              "</style>\n",
              "<table border=\"1\" class=\"dataframe\">\n",
              "  <thead>\n",
              "    <tr style=\"text-align: right;\">\n",
              "      <th></th>\n",
              "      <th>Model</th>\n",
              "      <th>R2</th>\n",
              "    </tr>\n",
              "  </thead>\n",
              "  <tbody>\n",
              "    <tr>\n",
              "      <th>0</th>\n",
              "      <td>Ridge Regression</td>\n",
              "      <td>0.986563</td>\n",
              "    </tr>\n",
              "    <tr>\n",
              "      <th>1</th>\n",
              "      <td>KNN</td>\n",
              "      <td>0.993259</td>\n",
              "    </tr>\n",
              "    <tr>\n",
              "      <th>2</th>\n",
              "      <td>Polynomial Regression</td>\n",
              "      <td>0.999534</td>\n",
              "    </tr>\n",
              "    <tr>\n",
              "      <th>3</th>\n",
              "      <td>Lasso</td>\n",
              "      <td>0.999996</td>\n",
              "    </tr>\n",
              "    <tr>\n",
              "      <th>4</th>\n",
              "      <td>Linear Regression</td>\n",
              "      <td>1.000000</td>\n",
              "    </tr>\n",
              "    <tr>\n",
              "      <th>5</th>\n",
              "      <td>Multiple Linear Regression</td>\n",
              "      <td>1.000000</td>\n",
              "    </tr>\n",
              "  </tbody>\n",
              "</table>\n",
              "</div>"
            ],
            "text/plain": [
              "                        Model        R2\n",
              "0            Ridge Regression  0.986563\n",
              "1                         KNN  0.993259\n",
              "2       Polynomial Regression  0.999534\n",
              "3                       Lasso  0.999996\n",
              "4           Linear Regression  1.000000\n",
              "5  Multiple Linear Regression  1.000000"
            ]
          },
          "metadata": {},
          "execution_count": 54
        }
      ]
    }
  ]
}